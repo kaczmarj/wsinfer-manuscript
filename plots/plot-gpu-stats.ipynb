{
 "cells": [
  {
   "cell_type": "code",
   "execution_count": null,
   "id": "d9a2f96c",
   "metadata": {},
   "outputs": [],
   "source": [
    "%matplotlib inline"
   ]
  },
  {
   "cell_type": "code",
   "execution_count": null,
   "id": "d5eb3619",
   "metadata": {},
   "outputs": [],
   "source": [
    "import matplotlib.pyplot as plt\n",
    "import numpy as np\n",
    "import pandas as pd\n",
    "import seaborn as sns"
   ]
  },
  {
   "cell_type": "code",
   "execution_count": null,
   "id": "05d053e5",
   "metadata": {},
   "outputs": [],
   "source": [
    "def get_df(path: str) -> pd.DataFrame:\n",
    "    df = pd.read_csv(path, header=None)\n",
    "    df.columns = [\n",
    "        \"timestamp\",\"index\",\"uuid\",\"utilization.gpu\",\"memory.total\",\"memory.used\",\"memory.free\",\"utilization.memory\", \"utilization.gpu2\", \"temperature.gpu\",\"pstate\"]\n",
    "    df.loc[:, \"timestamp\"] = pd.to_datetime(df.timestamp).copy()\n",
    "    t0 = df.loc[0, \"timestamp\"]\n",
    "    df.loc[:, \"timedelta\"] = df.timestamp - t0\n",
    "    df.loc[:, \"timedelta_minutes\"] = df.timedelta.dt.seconds / 60\n",
    "    df.loc[:, \"memory.used.gib\"] = df.loc[:, \"memory.used\"] / 1024\n",
    "    return df"
   ]
  },
  {
   "cell_type": "code",
   "execution_count": null,
   "id": "a03a20d1",
   "metadata": {},
   "outputs": [],
   "source": [
    "df = pd.concat((get_df(\"gpu-stats-wsinfer.csv\").assign(pipeline=\"wsinfer\"), get_df(\"gpu-stats-frontiers.csv\").assign(pipeline=\"frontiers\")))\n",
    "df = df.set_index(\"timedelta\")"
   ]
  },
  {
   "cell_type": "code",
   "execution_count": null,
   "id": "3e694623",
   "metadata": {},
   "outputs": [],
   "source": [
    "df_gpu_util_1min = df.groupby(\"pipeline\")[[\"utilization.gpu\", \"memory.used\", \"memory.used.gib\"]].resample('1Min').mean().reset_index()\n",
    "df_gpu_util_1min.loc[:, \"hours\"] = df_gpu_util_1min.timedelta / np.timedelta64(1, \"h\")\n",
    "df_gpu_util_1min.loc[:, \"minutes\"] = df_gpu_util_1min.timedelta / np.timedelta64(1, \"m\")"
   ]
  },
  {
   "cell_type": "code",
   "execution_count": null,
   "id": "6445ded5",
   "metadata": {
    "scrolled": false
   },
   "outputs": [],
   "source": [
    "sns.set_context(\"paper\", font_scale=1.5)\n",
    "# facet = sns.relplot(df_gpu_util_1min, x=\"hours\", y=\"utilization.gpu\", style=\"pipeline\", style_order=[\"wsinfer\", \"frontiers\"],kind=\"line\",)\n",
    "facet = sns.relplot(df_gpu_util_1min, x=\"hours\", y=\"utilization.gpu\", hue=\"pipeline\", hue_order=[\"wsinfer\", \"frontiers\"],kind=\"line\",)\n",
    "facet.ax.set_ylim(0, 100)\n",
    "facet.ax.set_ylabel(\"GPU Utilization (%)\")\n",
    "facet.ax.set_xlabel(\"Relative Time (hours)\")\n",
    "\n",
    "sns.move_legend(facet, \"upper center\", bbox_to_anchor=(.7, .98), title=None)\n",
    "\n",
    "plt.show()"
   ]
  },
  {
   "cell_type": "code",
   "execution_count": null,
   "id": "44eb080e",
   "metadata": {},
   "outputs": [],
   "source": [
    "sns.set_context(\"paper\", font_scale=1.5)\n",
    "facet = sns.relplot(df_gpu_util_1min, x=\"hours\", y=\"memory.used.gib\", hue=\"pipeline\", hue_order=[\"wsinfer\", \"frontiers\"], kind=\"line\")\n",
    "# facet.ax.set_ylim(0, 100)\n",
    "facet.ax.set_ylabel(\"GPU Memory Used (GiB)\")\n",
    "facet.ax.set_xlabel(\"Relative Time (hours)\")\n",
    "\n",
    "# facet.ax.xaxis.set_major_formatter(mdates.DateFormatter('%H:%M:%S'))\n",
    "# facet.ax.xaxis.set_major_locator(mdates.HourLocator(interval=1))\n",
    "sns.move_legend(facet, \"center right\", bbox_to_anchor=(.68, .3), title=None)\n",
    "plt.show()"
   ]
  },
  {
   "cell_type": "code",
   "execution_count": null,
   "id": "13f3492f",
   "metadata": {},
   "outputs": [],
   "source": []
  },
  {
   "cell_type": "code",
   "execution_count": null,
   "id": "8b0ac162",
   "metadata": {},
   "outputs": [],
   "source": []
  },
  {
   "cell_type": "code",
   "execution_count": null,
   "id": "166a79a8",
   "metadata": {},
   "outputs": [],
   "source": [
    "df.groupby(\"pipeline\")[\"utilization.gpu\"].describe()"
   ]
  },
  {
   "cell_type": "code",
   "execution_count": null,
   "id": "32f4c342",
   "metadata": {},
   "outputs": [],
   "source": []
  },
  {
   "cell_type": "code",
   "execution_count": null,
   "id": "bd1c0aa2",
   "metadata": {},
   "outputs": [],
   "source": []
  }
 ],
 "metadata": {
  "kernelspec": {
   "display_name": "Python 3 (ipykernel)",
   "language": "python",
   "name": "python3"
  },
  "language_info": {
   "codemirror_mode": {
    "name": "ipython",
    "version": 3
   },
   "file_extension": ".py",
   "mimetype": "text/x-python",
   "name": "python",
   "nbconvert_exporter": "python",
   "pygments_lexer": "ipython3",
   "version": "3.10.9"
  }
 },
 "nbformat": 4,
 "nbformat_minor": 5
}
